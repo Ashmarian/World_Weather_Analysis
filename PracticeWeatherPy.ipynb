{
 "cells": [
  {
   "cell_type": "code",
   "execution_count": 1,
   "id": "814a2bec-a5d2-4c7c-a307-05d9ea447c8d",
   "metadata": {},
   "outputs": [],
   "source": [
    "#Import the dependencies.\n",
    "import pandas as pd\n",
    "import matplotlib.pyplot as plt\n",
    "\n",
    "import numpy as np\n"
   ]
  },
  {
   "cell_type": "code",
   "execution_count": 2,
   "id": "b50a67ab-ef98-431a-8a00-12740b329603",
   "metadata": {},
   "outputs": [
    {
     "data": {
      "text/plain": [
       "<zip at 0x2254456df88>"
      ]
     },
     "execution_count": 2,
     "metadata": {},
     "output_type": "execute_result"
    }
   ],
   "source": [
    "#Create a set of random latitude and longitude combinations.\n",
    "lats = np.random.uniform(low=-90.000, high=90.000, size=15)\n",
    "lngs = np.random.uniform(low=-180.000, high=180.000, size=15)\n",
    "lat_lngs = zip(lats, lngs)\n",
    "lat_lngs"
   ]
  },
  {
   "cell_type": "code",
   "execution_count": 3,
   "id": "824c5f70-78cb-499b-9240-40564a97c9af",
   "metadata": {},
   "outputs": [],
   "source": [
    "#Add the latitudes and longitudes to a list.\n",
    "coordinates = list(lat_lngs)"
   ]
  },
  {
   "cell_type": "code",
   "execution_count": 6,
   "id": "29b3e8a2-f05e-4d0d-9bf2-d632a0f8fe40",
   "metadata": {},
   "outputs": [],
   "source": [
    "#pip install citipy"
   ]
  },
  {
   "cell_type": "code",
   "execution_count": 7,
   "id": "61195445-5eab-4696-8ff7-636c2b584dfe",
   "metadata": {},
   "outputs": [],
   "source": [
    "#Use the citipy module to determine city based on latitude and longitude.\n",
    "from citipy import citipy"
   ]
  },
  {
   "cell_type": "code",
   "execution_count": 8,
   "id": "a53ad34b-e2da-4dd4-a388-b5f802539e3b",
   "metadata": {},
   "outputs": [
    {
     "name": "stdout",
     "output_type": "stream",
     "text": [
      "atuona pf\n",
      "yellowknife ca\n",
      "jamestown sh\n",
      "ostrovnoy ru\n",
      "ushuaia ar\n",
      "antsohihy mg\n",
      "souillac mu\n",
      "bengkulu id\n",
      "harper lr\n",
      "belushya guba ru\n",
      "atuona pf\n",
      "iqaluit ca\n",
      "albany au\n",
      "atuona pf\n",
      "bambous virieux mu\n"
     ]
    }
   ],
   "source": [
    "#Use the tuple() function to display the latitude and longitude combination for coordinate in coordinates:\n",
    "for coordinate in coordinates:\n",
    "    print(citipy.nearest_city(coordinate[0], coordinate[1]).city_name, \n",
    "          citipy.nearest_city(coordinate[0], coordinate[1]).country_code)"
   ]
  },
  {
   "cell_type": "code",
   "execution_count": 9,
   "id": "6a387905-c3cd-46a4-8a3b-4d23745b7b5b",
   "metadata": {},
   "outputs": [],
   "source": [
    "#Import the requests library\n",
    "import requests\n",
    "\n",
    "#Import the API key\n",
    "from config import weather_api_key"
   ]
  },
  {
   "cell_type": "code",
   "execution_count": 11,
   "id": "b5e22517-01df-42c4-a846-7331d6ca3fd2",
   "metadata": {},
   "outputs": [],
   "source": [
    "#Starting URL for Weather Map API Call.\n",
    "url = \"http://api.openweathermap.org/data/2.5/weather?units=Imperial&APPID=\" + weather_api_key\n",
    "#print(url)"
   ]
  },
  {
   "cell_type": "code",
   "execution_count": 12,
   "id": "a0c9dfe9-877a-4bc3-85be-6c1eb6ca53da",
   "metadata": {},
   "outputs": [
    {
     "name": "stdout",
     "output_type": "stream",
     "text": [
      "Beginning Data Retrieval    \n",
      "----------------------------\n"
     ]
    }
   ],
   "source": [
    "#Create an empty list to hold the weather data.\n",
    "city_data = []\n",
    "\n",
    "#Print the beginning of the logging.\n",
    "print(\"Beginning Data Retrieval    \")\n",
    "print(\"----------------------------\")\n",
    "\n",
    "#Create counters.\n",
    "record_count = 1\n",
    "set_count = 1"
   ]
  },
  {
   "cell_type": "code",
   "execution_count": 14,
   "id": "60bbe146-7b86-427f-821c-424fa48225f4",
   "metadata": {},
   "outputs": [],
   "source": [
    "cities = [\"Miami\", \"Richmond\"]"
   ]
  },
  {
   "cell_type": "code",
   "execution_count": 15,
   "id": "91877fe2-7dc7-4d6b-ad5b-88f26e8c1b93",
   "metadata": {},
   "outputs": [
    {
     "name": "stdout",
     "output_type": "stream",
     "text": [
      "Processing Record 1 of Set 1 | Miami\n",
      "Processing Record 2 of Set 1 | Richmond\n"
     ]
    }
   ],
   "source": [
    "#Loop through all the cities in our list.\n",
    "for i, city in enumerate(cities):\n",
    "    \n",
    "    \n",
    "    #Group cities in sets of 50 for logging purposes.\n",
    "    if(i % 50 == 0 and i >= 50):\n",
    "        set_count += 1\n",
    "        record_count += 1\n",
    "        time.sleep(60)\n",
    "        \n",
    "    #Create endpoint URL with each city \n",
    "    city_url = url + \"&q=\" + city.replace(\" \", \"+\")\n",
    "    \n",
    "\n",
    "    #Log the URL, record, and set numbers and the city.\n",
    "    print(f\"Processing Record {record_count} of Set {set_count} | {city}\")\n",
    "    \n",
    "    #Add 1 to the record count.\n",
    "    record_count += 1"
   ]
  },
  {
   "cell_type": "code",
   "execution_count": 17,
   "id": "a9b42b16-140d-48a6-9070-95c55de6b144",
   "metadata": {},
   "outputs": [
    {
     "name": "stdout",
     "output_type": "stream",
     "text": [
      "{'coord': {'lon': -77.4603, 'lat': 37.5538}, 'weather': [{'id': 800, 'main': 'Clear', 'description': 'clear sky', 'icon': '01d'}], 'base': 'stations', 'main': {'temp': 37.58, 'feels_like': 37.58, 'temp_min': 35.51, 'temp_max': 40.23, 'pressure': 1030, 'humidity': 59}, 'visibility': 10000, 'wind': {'speed': 1.01, 'deg': 132, 'gust': 3}, 'clouds': {'all': 1}, 'dt': 1640017556, 'sys': {'type': 2, 'id': 2042621, 'country': 'US', 'sunrise': 1640002837, 'sunset': 1640037272}, 'timezone': -18000, 'id': 4781708, 'name': 'Richmond', 'cod': 200}\n",
      "City not found.Skipping...\n",
      "------------------------------\n",
      "Data Retrieval Complete       \n",
      "------------------------------\n"
     ]
    }
   ],
   "source": [
    "#Run an API request for each of the cities.\n",
    "try: \n",
    "    #Parse the JSON and retrieve data.\n",
    "    city_weather = requests.get(city_url).json()\n",
    "    \n",
    "    #Print output\n",
    "    print (city_weather)\n",
    "    #Parse out the needed data.\n",
    "    city_lat = city_weather[\"coord\"][\"lat\"]\n",
    "    city_lng = city_weather[\"coord\"][\"lon\"]\n",
    "    city_max_temp = city_weather[\"main\"][\"humidity\"]\n",
    "    city_clouds = city_weather[\"clouds\"][\"all\"]\n",
    "    city_wind = city_weather[\"wind\"][\"speed\"]\n",
    "    city_country = city_weather[\"sys\"][\"country\"]\n",
    "    #Convert the date to ISO standard.\n",
    "    city_date = datetime.utcfromtimestamp(city_weather[\"dt\"]).strftime('%Y-%m-%d %H:%M:$S')\n",
    "    #Append the city information into city_data list\n",
    "    city_data.append({\"City\": city.title(),\n",
    "                     \"Lat\": city_lat,\n",
    "                     \"Lng\": city_lng,\n",
    "                     \"Max Temp\": city_max_temp,\n",
    "                     \"Humidity\": city_humidity,\n",
    "                     \"Cloudiness\": city_clouds,\n",
    "                     \"Wind Speed\": city_wind,\n",
    "                     \"Country\": city_country,\n",
    "                     \"Date\": city_date})\n",
    " #If an error experienced, skip the city.\n",
    "except: \n",
    "    print(\"City not found.Skipping...\")\n",
    "    pass\n",
    "\n",
    "#Indicate that Data loadng is complete.\n",
    "print(\"------------------------------\")\n",
    "print(\"Data Retrieval Complete       \")\n",
    "print(\"------------------------------\")"
   ]
  },
  {
   "cell_type": "code",
   "execution_count": null,
   "id": "d34a8e2d-5f10-40ee-b791-6f7864d9feba",
   "metadata": {},
   "outputs": [],
   "source": []
  }
 ],
 "metadata": {
  "kernelspec": {
   "display_name": "PythonData",
   "language": "python",
   "name": "pythondata"
  },
  "language_info": {
   "codemirror_mode": {
    "name": "ipython",
    "version": 3
   },
   "file_extension": ".py",
   "mimetype": "text/x-python",
   "name": "python",
   "nbconvert_exporter": "python",
   "pygments_lexer": "ipython3",
   "version": "3.7.11"
  }
 },
 "nbformat": 4,
 "nbformat_minor": 5
}
