{
 "cells": [
  {
   "cell_type": "code",
   "execution_count": 9,
   "id": "68b4aa22-e5ee-47c7-8b68-daeb54912f34",
   "metadata": {},
   "outputs": [],
   "source": [
    "\n",
    "\n",
    "#Import dependencies(python libraries)\n",
    "#Module 6.1.4 Import dependencies.\n",
    "\n",
    "import pandas as pd\n",
    "import numpy as np\n",
    "import matplotlib.pyplot as plt\n",
    "import random\n",
    "\n",
    "#add citipy library\n",
    "\n",
    "from citipy import citipy\n",
    "\n",
    "#add requests module \n",
    "\n",
    "\n",
    "#Import the API key from config.py file\n",
    "\n",
    "\n",
    "\n",
    "#import datetime to recast api date a datetime format\n",
    "\n",
    "\n"
   ]
  },
  {
   "cell_type": "code",
   "execution_count": 10,
   "id": "3232e350-6109-4476-94d6-6cd87f18777d",
   "metadata": {},
   "outputs": [],
   "source": [
    "#Module 6.1.4 Generate Random Latitude(Lats) and Longitude(Lngs)\n",
    "#Note: lats range from -90 to 90\n",
    "#Note:lngs range from -180  to 180\n",
    "\n",
    "#From 6.1.4-Create a set of random latitude and longitude combinations.\n",
    "#Note for our initial work set the size to just 10 until we get the entire code\n",
    "#this will li,it the number of calls we make to OpenweatherAPI as there is a\n",
    "lats = np.random.uniform(low=-90.000, high=90.000, size=10)\n",
    "lngs = np.random.uniform(low=-180.000, high=180.000, size=10)\n",
    "\n",
    "#the zip method combines the lats and lngs into a list of pairs\n",
    "lat_lngs = zip(lats, lngs)\n",
    "lat_lngs\n",
    "\n",
    "\n",
    "#Add the latitudes and Longitudes to a list\n",
    "coordinates = list(lat_lngs)\n"
   ]
  },
  {
   "cell_type": "code",
   "execution_count": 13,
   "id": "7c648d89-59ab-4167-be46-da69e4bfcc50",
   "metadata": {},
   "outputs": [
    {
     "data": {
      "text/plain": [
       "10"
      ]
     },
     "execution_count": 13,
     "metadata": {},
     "output_type": "execute_result"
    }
   ],
   "source": [
    "#Module 6.1.5 Generate Random World Cities\n",
    "#This will require citipy to be installed to the Pythod Data Environment\n",
    "#this will require a pip install of citipy\n",
    "\n",
    "\n",
    "\n",
    "#Use the citipy module to determine city based on latitude and Longitude\n",
    "#add from citipy import citipy to the list of dependencies imported in second\n",
    "\n",
    "\n",
    "\n",
    "#Create a list for holding the cities\n",
    "cities= []\n",
    "\n",
    "\n",
    "#Identify the nearest city for each latitude and Longitude combination\n",
    "for coordinate in coordinates:\n",
    "    city = citipy.nearest_city(coordinate[0], coordinate[1]).city_name\n",
    "    \n",
    "    # If the city is unique, then we will add it to the cities list.\n",
    "    if city not in cities:\n",
    "        cities.append(city)\n",
    "# Print the city count to confirm sufficient count.\n",
    "len(cities)\n",
    "\n",
    "#Print the city count to confirm sufficient count"
   ]
  },
  {
   "cell_type": "code",
   "execution_count": null,
   "id": "560e384a-a1a9-471f-a315-06d5a91c53b2",
   "metadata": {},
   "outputs": [],
   "source": [
    "#understanding APIS\n",
    "#Module 6.2.1 (Watch the video) and get an API key for Openweather API\n",
    "#add weather_api_key to config.py file\n",
    "#add import requests to list od dependencies in second cell from the top\n"
   ]
  },
  {
   "cell_type": "code",
   "execution_count": null,
   "id": "cc2f8283-f57e-41c4-a750-69260195e6ad",
   "metadata": {},
   "outputs": [],
   "source": [
    "#test URL\n",
    "#city='Richmond'\n",
    "#query_url=url + \"&q=\" +city.replace(\"\",\"+\")\n",
    "## print(query_url)"
   ]
  },
  {
   "cell_type": "code",
   "execution_count": null,
   "id": "c937bec2-26dc-421a-b3c2-6b84486c2e8d",
   "metadata": {},
   "outputs": [],
   "source": [
    "#Make a Request for Data to an API\n",
    "#Module 6.2.4(watch video)\n",
    "#Module 6.2.6 Get the City Weather Data\n",
    "\n",
    "\n",
    "#Create url(from Openweather API documentation)"
   ]
  }
 ],
 "metadata": {
  "kernelspec": {
   "display_name": "PythonData",
   "language": "python",
   "name": "pythondata"
  },
  "language_info": {
   "codemirror_mode": {
    "name": "ipython",
    "version": 3
   },
   "file_extension": ".py",
   "mimetype": "text/x-python",
   "name": "python",
   "nbconvert_exporter": "python",
   "pygments_lexer": "ipython3",
   "version": "3.7.11"
  }
 },
 "nbformat": 4,
 "nbformat_minor": 5
}
