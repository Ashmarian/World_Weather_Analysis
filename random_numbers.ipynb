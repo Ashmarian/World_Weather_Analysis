{
 "cells": [
  {
   "cell_type": "code",
   "execution_count": 9,
   "id": "c2c8ec9a-3617-4534-85bb-2cefeb16b742",
   "metadata": {},
   "outputs": [],
   "source": [
    "#import the random module.\n",
    "import random"
   ]
  },
  {
   "cell_type": "code",
   "execution_count": 10,
   "id": "b793e3a1-98ec-425c-90ab-55e552d91e66",
   "metadata": {},
   "outputs": [
    {
     "data": {
      "text/plain": [
       "<bound method Random.randint of <random.Random object at 0x000001F81C9A88C8>>"
      ]
     },
     "execution_count": 10,
     "metadata": {},
     "output_type": "execute_result"
    }
   ],
   "source": [
    "random.randint\n"
   ]
  },
  {
   "cell_type": "code",
   "execution_count": 11,
   "id": "a589fb6f-3a93-4026-b17a-ce02569f523b",
   "metadata": {},
   "outputs": [
    {
     "data": {
      "text/plain": [
       "62"
      ]
     },
     "execution_count": 11,
     "metadata": {},
     "output_type": "execute_result"
    }
   ],
   "source": [
    "random.randint(-90, 90)"
   ]
  },
  {
   "cell_type": "code",
   "execution_count": 12,
   "id": "165666ab-fdd1-4f29-b39d-9319b3c5a737",
   "metadata": {},
   "outputs": [
    {
     "data": {
      "text/plain": [
       "0.10932118873885699"
      ]
     },
     "execution_count": 12,
     "metadata": {},
     "output_type": "execute_result"
    }
   ],
   "source": [
    "random.random()"
   ]
  },
  {
   "cell_type": "code",
   "execution_count": 13,
   "id": "758b8af0-d931-4ac6-bd49-c1028be2c758",
   "metadata": {},
   "outputs": [
    {
     "data": {
      "text/plain": [
       "-54.181575353742225"
      ]
     },
     "execution_count": 13,
     "metadata": {},
     "output_type": "execute_result"
    }
   ],
   "source": [
    "random_number = random.randint(-90, 89) + random.random()\n",
    "random_number"
   ]
  },
  {
   "cell_type": "code",
   "execution_count": 14,
   "id": "457b3739-78e7-4eeb-8d72-9184dcc87875",
   "metadata": {},
   "outputs": [],
   "source": [
    "x = 1\n",
    "latitudes = []\n",
    "while x < 11:\n",
    "    random_lat = random.randint(-90, 89) + random.random()\n",
    "    latitudes.append(random_lat)\n",
    "    x += 1"
   ]
  },
  {
   "cell_type": "code",
   "execution_count": 15,
   "id": "92eb5c05-2a1a-4172-8a0e-90be0f795624",
   "metadata": {},
   "outputs": [
    {
     "data": {
      "text/plain": [
       "85"
      ]
     },
     "execution_count": 15,
     "metadata": {},
     "output_type": "execute_result"
    }
   ],
   "source": [
    "random.randrange(-90, 90, step=1)"
   ]
  },
  {
   "cell_type": "code",
   "execution_count": 16,
   "id": "23010f25-0271-404f-a297-6ca4659bc64e",
   "metadata": {},
   "outputs": [
    {
     "data": {
      "text/plain": [
       "33"
      ]
     },
     "execution_count": 16,
     "metadata": {},
     "output_type": "execute_result"
    }
   ],
   "source": [
    "random.randrange(-90, 90, step=3)"
   ]
  },
  {
   "cell_type": "code",
   "execution_count": 17,
   "id": "f12d0289-149e-48e4-99e9-c0fabd1b40f5",
   "metadata": {},
   "outputs": [
    {
     "data": {
      "text/plain": [
       "12.572126457427999"
      ]
     },
     "execution_count": 17,
     "metadata": {},
     "output_type": "execute_result"
    }
   ],
   "source": [
    "random.uniform(-90, 90)"
   ]
  },
  {
   "cell_type": "code",
   "execution_count": 18,
   "id": "4b9d57fd-2d38-4f3b-92d9-fe2174bb5a95",
   "metadata": {},
   "outputs": [],
   "source": [
    "#Import the NumPy module\n",
    "import numpy as np"
   ]
  },
  {
   "cell_type": "code",
   "execution_count": 19,
   "id": "05e8cc4d-1739-4aa3-94ca-d181e8274b8f",
   "metadata": {},
   "outputs": [
    {
     "data": {
      "text/plain": [
       "<function RandomState.uniform>"
      ]
     },
     "execution_count": 19,
     "metadata": {},
     "output_type": "execute_result"
    }
   ],
   "source": [
    "np.random.uniform"
   ]
  },
  {
   "cell_type": "code",
   "execution_count": 20,
   "id": "c2df590a-406c-45c7-b865-58e01763e548",
   "metadata": {},
   "outputs": [
    {
     "data": {
      "text/plain": [
       "35.99260621811483"
      ]
     },
     "execution_count": 20,
     "metadata": {},
     "output_type": "execute_result"
    }
   ],
   "source": [
    "np.random.uniform(-90.000, 90.000)"
   ]
  },
  {
   "cell_type": "code",
   "execution_count": 21,
   "id": "bc326f98-36b8-46fa-b8b3-b09dce704b83",
   "metadata": {},
   "outputs": [
    {
     "data": {
      "text/plain": [
       "array([ 15.23775161, -52.50312958, -46.96271835,  72.42136392,\n",
       "        14.2066967 ,  45.24441163,   9.60197975,  72.10038546,\n",
       "       -75.50208832, -26.30122418,  20.72293015,  -5.17609547,\n",
       "       -69.12112104,   8.06451013, -37.53747112, -16.37928606,\n",
       "       -66.5973453 , -65.93697382, -60.91124323, -58.01141057,\n",
       "        46.84269061, -27.70889807, -60.64386237, -41.66565684,\n",
       "       -42.15191914,  -1.93238321, -74.60963883, -33.66655228,\n",
       "        78.33593231,  25.60291451,  51.71783613, -25.69975882,\n",
       "        40.49934002, -41.34145761,  74.84716673, -42.64551124,\n",
       "       -68.68745819,  65.98433154,  32.89254629,  36.74405369,\n",
       "        71.32690502,  15.19400369,  85.43577315, -12.77704843,\n",
       "       -86.51011333,  40.13068996, -26.6940979 ,  80.64775912,\n",
       "       -40.87645056,  38.33384935])"
      ]
     },
     "execution_count": 21,
     "metadata": {},
     "output_type": "execute_result"
    }
   ],
   "source": [
    "np.random.uniform(-90.000, 90.000, size=50)"
   ]
  },
  {
   "cell_type": "code",
   "execution_count": 22,
   "id": "f4b05be0-daa5-4716-9014-8805faea2bf4",
   "metadata": {},
   "outputs": [],
   "source": [
    "#Impot timeit\n",
    "import timeit\n"
   ]
  },
  {
   "cell_type": "code",
   "execution_count": 23,
   "id": "17c8af1f-b8a0-49e1-9511-e3983e7b196c",
   "metadata": {},
   "outputs": [
    {
     "name": "stdout",
     "output_type": "stream",
     "text": [
      "14.1 µs ± 534 ns per loop (mean ± std. dev. of 7 runs, 100000 loops each)\n"
     ]
    }
   ],
   "source": [
    "%timeit np.random.uniform(-90.000, 90.000, size=1500)"
   ]
  },
  {
   "cell_type": "code",
   "execution_count": 24,
   "id": "244f2c43-dd44-470d-9923-d75ffebfc153",
   "metadata": {},
   "outputs": [
    {
     "name": "stdout",
     "output_type": "stream",
     "text": [
      "1.78 ms ± 47 µs per loop (mean ± std. dev. of 7 runs, 1000 loops each)\n"
     ]
    }
   ],
   "source": [
    "def latitudes(size):\n",
    "    latitudes= []\n",
    "    x = 0\n",
    "    while x < (size):\n",
    "        random_lat = random.randint(-90, 90) + random.random()\n",
    "        latitudes.append(random_lat)\n",
    "        x += 1\n",
    "    return latitudes\n",
    "#Call the function with 1500\n",
    "%timeit latitudes(1500)"
   ]
  },
  {
   "cell_type": "code",
   "execution_count": null,
   "id": "f4ab3688-887d-4d62-a3af-efecedf7d7dd",
   "metadata": {},
   "outputs": [],
   "source": []
  }
 ],
 "metadata": {
  "kernelspec": {
   "display_name": "PythonData",
   "language": "python",
   "name": "pythondata"
  },
  "language_info": {
   "codemirror_mode": {
    "name": "ipython",
    "version": 3
   },
   "file_extension": ".py",
   "mimetype": "text/x-python",
   "name": "python",
   "nbconvert_exporter": "python",
   "pygments_lexer": "ipython3",
   "version": "3.7.11"
  }
 },
 "nbformat": 4,
 "nbformat_minor": 5
}
